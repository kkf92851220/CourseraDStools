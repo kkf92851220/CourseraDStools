{
 "cells": [
  {
   "cell_type": "markdown",
   "id": "7096081c-e99d-499c-859b-013b9944f7ad",
   "metadata": {},
   "source": [
    "# Data Science Tools and Ecosystem"
   ]
  },
  {
   "cell_type": "markdown",
   "id": "22a018e1-2da0-4f9f-a2d2-13b2f880e716",
   "metadata": {},
   "source": [
    "In this notebook, Data Science Tools and Ecosystems are summarized.\n"
   ]
  },
  {
   "cell_type": "markdown",
   "id": "b233da45-bbf6-43fd-8015-68e5f3e04bfb",
   "metadata": {},
   "source": [
    "__Objectives:__\n",
    "* List popular languages for Data Science.\n",
    "* List of commonly used libraries by Data Scientists.\n",
    "* Some of the Data Sciece Tools used in deployment environment.\n",
    "* The task categories of Data Science.\n",
    "* Architecture of Relational Database.\n",
    "\n"
   ]
  },
  {
   "cell_type": "markdown",
   "id": "1febeca3-cc6e-47fa-956e-4352c3feb0cf",
   "metadata": {},
   "source": [
    "Some of the commonly used libraries used by Data Scientists inlcude:\n",
    "1. R\n",
    "2. Python\n",
    "3. JavaScript"
   ]
  },
  {
   "cell_type": "markdown",
   "id": "5423168f-090f-4840-94fc-fe6e01316fc0",
   "metadata": {},
   "source": [
    "Some of the commonly used libraries used by Data Scientists include:\n",
    "\n",
    "* PyTorch\n",
    "* Scikit-learn\n",
    "* Keras\n"
   ]
  },
  {
   "cell_type": "markdown",
   "id": "f86234b6-a33e-4e50-8754-3bfe8cad678e",
   "metadata": {},
   "source": [
    "| Data Science Tools|\n",
    "|-------|\n",
    "|Jupyter Notebooks\n",
    "|R studio|\n",
    "|Apache Zeppelin|"
   ]
  },
  {
   "cell_type": "markdown",
   "id": "1117c03a-cd29-4f5f-a8ed-6495814f1e77",
   "metadata": {},
   "source": [
    "### Below are a few examples of evaluating arithmetic expressions in Python."
   ]
  },
  {
   "cell_type": "markdown",
   "id": "aa219a25-e25d-475f-9db0-3c0ea288bcf4",
   "metadata": {},
   "source": [
    "This a simple arithmetic expression to mutiply then add integers."
   ]
  },
  {
   "cell_type": "code",
   "execution_count": 12,
   "id": "745da6a1-6fa5-4e6f-af3f-88a628e7b822",
   "metadata": {},
   "outputs": [
    {
     "data": {
      "text/plain": [
       "17"
      ]
     },
     "execution_count": 12,
     "metadata": {},
     "output_type": "execute_result"
    }
   ],
   "source": [
    "(3*4)+5"
   ]
  },
  {
   "cell_type": "markdown",
   "id": "d272a734-310a-422a-b2f1-6e5a4e6b1579",
   "metadata": {},
   "source": [
    "This will convert 200 minutes to hours by diving by 60."
   ]
  },
  {
   "cell_type": "code",
   "execution_count": 18,
   "id": "1b3a9f38-3841-4c4c-a257-ff75c09a446e",
   "metadata": {},
   "outputs": [
    {
     "name": "stdout",
     "output_type": "stream",
     "text": [
      "3.3333333333333335\n"
     ]
    }
   ],
   "source": [
    "minutes =200\n",
    "y=60\n",
    "hours=minutes/y\n",
    "\n",
    "print (hours)"
   ]
  },
  {
   "cell_type": "markdown",
   "id": "f93513ab-5fe9-4bdc-a5f0-d2e417f59e56",
   "metadata": {},
   "source": [
    "## Author\n",
    "Chee Kwok"
   ]
  },
  {
   "cell_type": "code",
   "execution_count": null,
   "id": "9c300437-1bb7-4eae-aed9-2a6a3474179b",
   "metadata": {},
   "outputs": [],
   "source": []
  }
 ],
 "metadata": {
  "kernelspec": {
   "display_name": "Python 3 (ipykernel)",
   "language": "python",
   "name": "python3"
  },
  "language_info": {
   "codemirror_mode": {
    "name": "ipython",
    "version": 3
   },
   "file_extension": ".py",
   "mimetype": "text/x-python",
   "name": "python",
   "nbconvert_exporter": "python",
   "pygments_lexer": "ipython3",
   "version": "3.11.8"
  }
 },
 "nbformat": 4,
 "nbformat_minor": 5
}
